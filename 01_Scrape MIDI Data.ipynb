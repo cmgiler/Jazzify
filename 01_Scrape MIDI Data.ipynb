{
 "cells": [
  {
   "cell_type": "markdown",
   "metadata": {},
   "source": [
    "### Scrape MIDI files from web"
   ]
  },
  {
   "cell_type": "code",
   "execution_count": 1,
   "metadata": {
    "ExecuteTime": {
     "end_time": "2018-05-07T17:38:31.036706Z",
     "start_time": "2018-05-07T17:38:30.707502Z"
    },
    "collapsed": true
   },
   "outputs": [],
   "source": [
    "import requests\n",
    "import wget\n",
    "from bs4 import BeautifulSoup\n",
    "from ipywidgets import FloatProgress\n",
    "from IPython.display import display"
   ]
  },
  {
   "cell_type": "code",
   "execution_count": 2,
   "metadata": {
    "ExecuteTime": {
     "end_time": "2018-05-07T17:38:32.635102Z",
     "start_time": "2018-05-07T17:38:32.029480Z"
    },
    "collapsed": true
   },
   "outputs": [],
   "source": [
    "url_base = 'http://www.saxuet.qc.ca/TheSaxyPage/'\n",
    "r = requests.get('http://www.saxuet.qc.ca/TheSaxyPage/midi.htm')"
   ]
  },
  {
   "cell_type": "code",
   "execution_count": 3,
   "metadata": {
    "ExecuteTime": {
     "end_time": "2018-05-07T17:38:32.688116Z",
     "start_time": "2018-05-07T17:38:32.651247Z"
    }
   },
   "outputs": [],
   "source": [
    "soup = BeautifulSoup(r.text, 'lxml')"
   ]
  },
  {
   "cell_type": "code",
   "execution_count": 4,
   "metadata": {
    "ExecuteTime": {
     "end_time": "2018-05-07T17:38:33.204027Z",
     "start_time": "2018-05-07T17:38:33.199723Z"
    },
    "collapsed": true
   },
   "outputs": [],
   "source": [
    "table = soup.find('table', {'class': 'MsoNormalTable'})"
   ]
  },
  {
   "cell_type": "code",
   "execution_count": 5,
   "metadata": {
    "ExecuteTime": {
     "end_time": "2018-05-07T17:38:36.212706Z",
     "start_time": "2018-05-07T17:38:36.196731Z"
    }
   },
   "outputs": [
    {
     "data": {
      "text/plain": [
       "'http://www.saxuet.qc.ca/TheSaxyPage/Midis/midi/AFelicidade.mid'"
      ]
     },
     "execution_count": 5,
     "metadata": {},
     "output_type": "execute_result"
    }
   ],
   "source": [
    "links = [url_base+x.get('href') for x in table.find_all('a')[7:]]\n",
    "links[0]"
   ]
  },
  {
   "cell_type": "code",
   "execution_count": 7,
   "metadata": {
    "ExecuteTime": {
     "end_time": "2018-05-07T17:38:46.109338Z",
     "start_time": "2018-05-07T17:38:46.103710Z"
    }
   },
   "outputs": [],
   "source": [
    "f = FloatProgress(min=0, max=len(links))\n",
    "display(f)\n",
    "for i, link in enumerate(links):\n",
    "    f.value += 1\n",
    "    f.description = link.split('/')[-1]\n",
    "    try:\n",
    "        cur_file = wget.download(link, out='midi_files/'+link.split('/')[-1])\n",
    "    except:\n",
    "        continue\n",
    "#     print('%d/%d - %s' % (i, len(links), cur_file))"
   ]
  },
  {
   "cell_type": "code",
   "execution_count": null,
   "metadata": {
    "collapsed": true
   },
   "outputs": [],
   "source": []
  }
 ],
 "metadata": {
  "hide_input": false,
  "kernelspec": {
   "display_name": "Python 3",
   "language": "python",
   "name": "python3"
  },
  "language_info": {
   "codemirror_mode": {
    "name": "ipython",
    "version": 3
   },
   "file_extension": ".py",
   "mimetype": "text/x-python",
   "name": "python",
   "nbconvert_exporter": "python",
   "pygments_lexer": "ipython3",
   "version": "3.6.1"
  },
  "toc": {
   "nav_menu": {},
   "number_sections": true,
   "sideBar": true,
   "skip_h1_title": false,
   "title_cell": "Table of Contents",
   "title_sidebar": "Contents",
   "toc_cell": false,
   "toc_position": {},
   "toc_section_display": true,
   "toc_window_display": false
  }
 },
 "nbformat": 4,
 "nbformat_minor": 2
}
