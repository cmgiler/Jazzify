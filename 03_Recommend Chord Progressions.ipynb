{
 "cells": [
  {
   "cell_type": "code",
   "execution_count": 1,
   "metadata": {
    "collapsed": true
   },
   "outputs": [],
   "source": [
    "import numpy as np\n",
    "import pandas as pd\n",
    "from music21 import *\n",
    "import pickle\n",
    "from KojakLibrary import ProcessMusic as KJPM\n",
    "from IPython.display import clear_output\n",
    "\n",
    "import matplotlib.pyplot as plt\n",
    "import seaborn as sns\n",
    "%matplotlib inline"
   ]
  },
  {
   "cell_type": "code",
   "execution_count": 2,
   "metadata": {
    "collapsed": true
   },
   "outputs": [],
   "source": [
    "def remove_dupes(input_list):\n",
    "    new_list = [input_list[0]]\n",
    "    for item in input_list[1:]:\n",
    "        if item != new_list[-1]:\n",
    "            new_list.append(item)\n",
    "    return new_list"
   ]
  },
  {
   "cell_type": "code",
   "execution_count": 3,
   "metadata": {
    "collapsed": true
   },
   "outputs": [],
   "source": [
    "with open('df_song_links_chord_melody_seq.pkl', 'rb') as pkl:\n",
    "    df_song_links_chord_melody_seq = pickle.load(pkl)"
   ]
  },
  {
   "cell_type": "code",
   "execution_count": 4,
   "metadata": {
    "collapsed": true
   },
   "outputs": [],
   "source": [
    "with open('df_song_links.pkl', 'rb') as pkl:\n",
    "    df_song_links = pickle.load(pkl)"
   ]
  },
  {
   "cell_type": "code",
   "execution_count": 4,
   "metadata": {
    "collapsed": true
   },
   "outputs": [],
   "source": [
    "melodies = df_song_links_chord_melody_seq['Melody_Data'].apply(lambda x: np.array(x)).values"
   ]
  },
  {
   "cell_type": "code",
   "execution_count": 5,
   "metadata": {
    "collapsed": true
   },
   "outputs": [],
   "source": [
    "melodies = [np.array(remove_dupes(melody)) for melody in melodies]"
   ]
  },
  {
   "cell_type": "code",
   "execution_count": 6,
   "metadata": {},
   "outputs": [
    {
     "data": {
      "text/plain": [
       "array([10,  9,  3,  2,  8,  7,  1,  0,  7,  1,  8,  0,  7,  1,  8,  0,  7,\n",
       "        0,  7,  8,  3,  1,  7,  0,  7,  0,  7,  4, 11,  9,  4,  2,  9,  4,\n",
       "       11,  9,  4, 11,  6, 11,  6, 11,  6,  4,  9,  2,  7,  0,  7,  0,  7,\n",
       "        0,  7,  5,  0,  7,  0,  7,  2,  0,  7,  0,  5,  0, 10,  5, 10,  4,\n",
       "       11,  4,  3, 10,  2,  9,  2,  7,  2,  3,  8,  0,  7,  0,  7,  8,  3,\n",
       "        1,  7,  0,  7,  0,  7,  4, 11,  9,  4,  2,  9,  4, 11,  9,  4, 11,\n",
       "        6, 11,  6, 11,  6,  4,  9,  2,  7,  0,  7,  0,  7,  0,  7,  5,  0,\n",
       "        7,  0,  7,  2,  0,  7,  0,  5,  0, 10,  5, 10,  4, 11,  4,  3, 10,\n",
       "        2,  9,  2,  7,  2,  3,  8,  0,  7,  0,  7,  8,  3,  1,  7,  0,  7,\n",
       "        0,  7,  4, 11,  9,  4,  2,  9,  4, 11,  9,  4, 11,  6, 11,  6, 11,\n",
       "        6,  4,  9,  2,  7,  0,  7,  0,  7,  0,  7,  5,  0,  7,  0,  7,  2,\n",
       "        0,  7,  0,  5,  0, 10,  5, 10,  4, 11,  4,  3, 10,  2,  9,  2,  7,\n",
       "        2,  3,  8,  0,  7,  0,  7,  8,  3,  1,  7,  0,  7,  0,  7,  4, 11,\n",
       "        9,  4,  2,  9,  4, 11,  9,  4, 11,  6, 11,  6, 11,  6,  4,  9,  2,\n",
       "        7,  0,  7,  0,  7,  0,  7,  5,  0,  7,  0,  7,  2,  0,  7,  0,  5,\n",
       "        0, 10,  5, 10,  4, 11,  4,  3, 10,  2,  9,  2,  7,  2,  3,  8,  0,\n",
       "        7,  0,  7,  8,  3,  1,  7,  0,  7,  0,  7,  4, 11,  9,  4,  2,  9,\n",
       "        4, 11,  9,  4, 11,  6, 11,  6, 11,  6,  4,  9,  2,  7,  0,  7,  0,\n",
       "        7,  0,  7,  5,  0,  7,  0,  7,  2,  0,  7,  0,  5,  0, 10,  5, 10,\n",
       "        4, 11,  4,  3, 10,  2,  9,  2,  7,  2,  3,  8,  0,  7,  5,  0,  5,\n",
       "        0,  7,  5,  0,  5,  0,  7,  5,  0,  5,  0,  7,  5,  0,  5,  0,  7,\n",
       "        5,  0,  5,  0,  7])"
      ]
     },
     "execution_count": 6,
     "metadata": {},
     "output_type": "execute_result"
    }
   ],
   "source": [
    "melodies[0]"
   ]
  },
  {
   "cell_type": "code",
   "execution_count": 7,
   "metadata": {
    "collapsed": true
   },
   "outputs": [],
   "source": [
    "# my_midi = KJPM.load_midi('bruno_mars-locked_out_of_heaven.mid')\n",
    "# my_midi = KJPM.load_midi('TLC_-_No_Scrubs.mid')\n",
    "my_midi = KJPM.load_midi('Test_Clip.mid')"
   ]
  },
  {
   "cell_type": "code",
   "execution_count": 8,
   "metadata": {
    "collapsed": true
   },
   "outputs": [],
   "source": [
    "music_parts = [part for part in my_midi.parts]"
   ]
  },
  {
   "cell_type": "code",
   "execution_count": 9,
   "metadata": {
    "scrolled": false
   },
   "outputs": [
    {
     "data": {
      "image/png": "[encoded data removed]",
      "text/plain": [
       "<matplotlib.figure.Figure at 0x7f9ee56f2e80>"
      ]
     },
     "metadata": {
      "image/png": {
       "height": 269,
       "width": 871
      }
     },
     "output_type": "display_data"
    }
   ],
   "source": [
    "cmap = plt.cm.get_cmap(\"Blues\")\n",
    "start_plot = 14\n",
    "end_plot = 4\n",
    "for i, part in enumerate(music_parts):\n",
    "    try:\n",
    "        plt.figure(figsize=(15,4))\n",
    "        plt.contourf(KJPM.create_grid(part), cmap=cmap)\n",
    "        plt.title(part.partName, fontsize=20)\n",
    "#         plt.title('Melody', fontsize=20)\n",
    "        plt.xlim(start_plot*48, start_plot*48 + end_plot*48)\n",
    "        plt.ylim(60,90)\n",
    "    except:\n",
    "        print('Error')\n",
    "        continue"
   ]
  },
  {
   "cell_type": "code",
   "execution_count": 10,
   "metadata": {},
   "outputs": [
    {
     "data": {
      "text/plain": [
       "<music21.key.Key of g# minor>"
      ]
     },
     "execution_count": 10,
     "metadata": {},
     "output_type": "execute_result"
    }
   ],
   "source": [
    "x = part.analyze('key')\n",
    "x.pitches[0].midi+0\n",
    "x"
   ]
  },
  {
   "cell_type": "code",
   "execution_count": null,
   "metadata": {
    "collapsed": true
   },
   "outputs": [],
   "source": []
  },
  {
   "cell_type": "code",
   "execution_count": 11,
   "metadata": {
    "collapsed": true
   },
   "outputs": [],
   "source": [
    "part = [p for p in music_parts if p.partName == 'Soprano'][0]\n",
    "part_key = part.analyze('key')\n",
    "part_notes = []\n",
    "for p in part.recurse():\n",
    "    try:\n",
    "        if p.isNote:\n",
    "            part_notes.append(p)\n",
    "    except:\n",
    "        continue"
   ]
  },
  {
   "cell_type": "code",
   "execution_count": 12,
   "metadata": {
    "collapsed": true
   },
   "outputs": [],
   "source": [
    "def notes2seq(seq, inp_key, inp_mode):\n",
    "    primary_key = key.Key(inp_key, inp_mode)\n",
    "    primary_root = primary_key.getTonic().pitchClass\n",
    "    note_seq = []\n",
    "    for i, s in enumerate(seq):\n",
    "        clear_output(wait=True)\n",
    "        print('%d/%d' % (i+1, len(seq)))\n",
    "        \n",
    "        if s.isNote:\n",
    "            new_note = s.pitchClass\n",
    "            note_offset = new_note - primary_root\n",
    "            note_offset = new_note - primary_root\n",
    "            if note_offset < 0:\n",
    "                note_offset = note_offset + 12\n",
    "                \n",
    "            if (len(note_seq) > 0) and (note_seq[-1] == note_offset):\n",
    "                continue\n",
    "            else:\n",
    "                note_seq.append(note_offset)\n",
    "    return note_seq"
   ]
  },
  {
   "cell_type": "code",
   "execution_count": 13,
   "metadata": {},
   "outputs": [
    {
     "name": "stdout",
     "output_type": "stream",
     "text": [
      "650/650\n"
     ]
    }
   ],
   "source": [
    "melody_sequence = notes2seq(part_notes, part_key.tonic, part_key.mode)\n",
    "melody_sequence = np.array(melody_sequence[3:])"
   ]
  },
  {
   "cell_type": "code",
   "execution_count": 14,
   "metadata": {},
   "outputs": [
    {
     "data": {
      "text/plain": [
       "<matplotlib.collections.PathCollection at 0x7f9ee476ffd0>"
      ]
     },
     "execution_count": 14,
     "metadata": {},
     "output_type": "execute_result"
    },
    {
     "data": {
      "image/png": "[encoded data removed]",
      "text/plain": [
       "<matplotlib.figure.Figure at 0x7f9ee47fb748>"
      ]
     },
     "metadata": {
      "image/png": {
       "height": 248,
       "width": 1150
      }
     },
     "output_type": "display_data"
    }
   ],
   "source": [
    "plt.figure(figsize=(20,4))\n",
    "# plt.scatter(x=range(len(melody_sequence[:20])), y=melody_sequence[:20])\n",
    "plt.scatter(x=range(len(melody_sequence)), y=melody_sequence)"
   ]
  },
  {
   "cell_type": "code",
   "execution_count": 15,
   "metadata": {},
   "outputs": [
    {
     "data": {
      "text/plain": [
       "[<music21.note.Rest rest>,\n",
       " <music21.note.Note F#>,\n",
       " <music21.note.Note F#>,\n",
       " <music21.note.Note F#>,\n",
       " <music21.note.Note F#>,\n",
       " <music21.note.Note E->,\n",
       " <music21.note.Note E->,\n",
       " <music21.note.Note F#>,\n",
       " <music21.note.Note G#>,\n",
       " <music21.note.Note F#>,\n",
       " <music21.note.Note G#>,\n",
       " <music21.note.Note F#>,\n",
       " <music21.note.Note E->,\n",
       " <music21.note.Note E->,\n",
       " <music21.note.Note F#>,\n",
       " <music21.note.Note E->,\n",
       " <music21.note.Note F#>,\n",
       " <music21.note.Note F#>,\n",
       " <music21.note.Note E->,\n",
       " <music21.note.Note E->,\n",
       " <music21.note.Note E->,\n",
       " <music21.note.Note F#>,\n",
       " <music21.note.Note F#>,\n",
       " <music21.note.Note G#>,\n",
       " <music21.note.Note F#>,\n",
       " <music21.note.Note F#>,\n",
       " <music21.note.Note G#>,\n",
       " <music21.note.Note F#>,\n",
       " <music21.note.Note E->,\n",
       " <music21.note.Note F#>,\n",
       " <music21.note.Note E->,\n",
       " <music21.note.Note F#>,\n",
       " <music21.note.Note B>,\n",
       " <music21.note.Note B>,\n",
       " <music21.note.Note B>,\n",
       " <music21.note.Note E->,\n",
       " <music21.note.Note C#>,\n",
       " <music21.note.Note B>,\n",
       " <music21.note.Note B>,\n",
       " <music21.note.Note B>,\n",
       " <music21.note.Note B>,\n",
       " <music21.note.Note B>,\n",
       " <music21.note.Note C#>,\n",
       " <music21.note.Note E->,\n",
       " <music21.note.Note E->,\n",
       " <music21.note.Note E->,\n",
       " <music21.note.Note B>,\n",
       " <music21.note.Note B>,\n",
       " <music21.note.Note B>,\n",
       " <music21.note.Note B>,\n",
       " <music21.note.Note B>,\n",
       " <music21.note.Note E->,\n",
       " <music21.note.Note C#>,\n",
       " <music21.note.Note B>,\n",
       " <music21.note.Note B>,\n",
       " <music21.note.Note B>,\n",
       " <music21.note.Note C#>,\n",
       " <music21.note.Note C#>,\n",
       " <music21.note.Note E->,\n",
       " <music21.note.Note E->,\n",
       " <music21.note.Note B>,\n",
       " <music21.note.Note B>,\n",
       " <music21.note.Note B>,\n",
       " <music21.note.Note C#>,\n",
       " <music21.note.Note E->,\n",
       " <music21.note.Note B>,\n",
       " <music21.note.Note B>,\n",
       " <music21.note.Note C#>,\n",
       " <music21.note.Note E->,\n",
       " <music21.note.Note C#>,\n",
       " <music21.note.Note C#>,\n",
       " <music21.note.Note B>,\n",
       " <music21.note.Note C#>,\n",
       " <music21.note.Note E->,\n",
       " <music21.note.Note B>,\n",
       " <music21.chord.Chord G#4 B4>,\n",
       " <music21.note.Note B>,\n",
       " <music21.note.Note B>,\n",
       " <music21.note.Note B>,\n",
       " <music21.note.Note B>,\n",
       " <music21.note.Note C#>,\n",
       " <music21.note.Note B>,\n",
       " <music21.note.Note E->,\n",
       " <music21.note.Note B>,\n",
       " <music21.note.Note B>,\n",
       " <music21.note.Note B>,\n",
       " <music21.note.Note C#>,\n",
       " <music21.note.Note B>,\n",
       " <music21.note.Note E->,\n",
       " <music21.note.Note B>,\n",
       " <music21.note.Note B>,\n",
       " <music21.note.Note E->,\n",
       " <music21.note.Note E->,\n",
       " <music21.note.Note B>,\n",
       " <music21.note.Note C#>,\n",
       " <music21.note.Note E->,\n",
       " <music21.chord.Chord B4 E-5>,\n",
       " <music21.note.Note B>,\n",
       " <music21.note.Note B>,\n",
       " <music21.note.Note C#>,\n",
       " <music21.note.Note E->,\n",
       " <music21.note.Note B>,\n",
       " <music21.note.Note B>,\n",
       " <music21.note.Note C#>,\n",
       " <music21.note.Note C#>,\n",
       " <music21.note.Note E->,\n",
       " <music21.note.Note C#>,\n",
       " <music21.note.Note C#>,\n",
       " <music21.note.Note B>,\n",
       " <music21.note.Note C#>,\n",
       " <music21.note.Note E->,\n",
       " <music21.note.Note B>,\n",
       " <music21.chord.Chord G#4 B4>,\n",
       " <music21.note.Note B>,\n",
       " <music21.note.Note B>,\n",
       " <music21.note.Note B>,\n",
       " <music21.note.Note B>,\n",
       " <music21.note.Note C#>,\n",
       " <music21.note.Note B>,\n",
       " <music21.note.Note E->,\n",
       " <music21.note.Note B>,\n",
       " <music21.note.Note B>,\n",
       " <music21.note.Note C#>,\n",
       " <music21.note.Note E->,\n",
       " <music21.note.Note B>,\n",
       " <music21.note.Note B>,\n",
       " <music21.note.Note B>,\n",
       " <music21.note.Note E->,\n",
       " <music21.note.Note E->,\n",
       " <music21.note.Note B>,\n",
       " <music21.note.Note C#>,\n",
       " <music21.note.Note E->,\n",
       " <music21.note.Note F#>,\n",
       " <music21.note.Note E->,\n",
       " <music21.note.Note F#>,\n",
       " <music21.note.Note E->,\n",
       " <music21.note.Note E->,\n",
       " <music21.note.Note F#>,\n",
       " <music21.note.Note G#>,\n",
       " <music21.note.Note F#>,\n",
       " <music21.note.Note G#>,\n",
       " <music21.note.Note F#>,\n",
       " <music21.note.Note E->,\n",
       " <music21.note.Note E->,\n",
       " <music21.note.Note F#>,\n",
       " <music21.note.Note E->,\n",
       " <music21.note.Note F#>,\n",
       " <music21.note.Note F#>,\n",
       " <music21.note.Note E->,\n",
       " <music21.note.Note E->,\n",
       " <music21.note.Note E->,\n",
       " <music21.note.Note F#>,\n",
       " <music21.note.Note F#>,\n",
       " <music21.note.Note G#>,\n",
       " <music21.note.Note F#>,\n",
       " <music21.note.Note F#>,\n",
       " <music21.note.Note G#>,\n",
       " <music21.note.Note E->,\n",
       " <music21.note.Note F#>,\n",
       " <music21.note.Note E->,\n",
       " <music21.note.Note F#>,\n",
       " <music21.note.Note B>,\n",
       " <music21.note.Note B>,\n",
       " <music21.note.Note B>,\n",
       " <music21.note.Note E->,\n",
       " <music21.note.Note C#>,\n",
       " <music21.note.Note B>,\n",
       " <music21.note.Note B>,\n",
       " <music21.note.Note B>,\n",
       " <music21.note.Note B>,\n",
       " <music21.note.Note B>,\n",
       " <music21.note.Note C#>,\n",
       " <music21.note.Note E->,\n",
       " <music21.note.Note E->,\n",
       " <music21.note.Note B>,\n",
       " <music21.note.Note B>,\n",
       " <music21.note.Note B>,\n",
       " <music21.note.Note B>,\n",
       " <music21.note.Note B>,\n",
       " <music21.note.Note E->,\n",
       " <music21.note.Note C#>,\n",
       " <music21.note.Note B>,\n",
       " <music21.note.Note B>,\n",
       " <music21.note.Note B>,\n",
       " <music21.note.Note C#>,\n",
       " <music21.note.Note C#>,\n",
       " <music21.note.Note E->,\n",
       " <music21.note.Note E->,\n",
       " <music21.note.Note B>,\n",
       " <music21.note.Note B>,\n",
       " <music21.note.Note B>,\n",
       " <music21.note.Note C#>,\n",
       " <music21.note.Note E->,\n",
       " <music21.note.Note B>,\n",
       " <music21.note.Note B>,\n",
       " <music21.note.Note C#>,\n",
       " <music21.note.Note E->,\n",
       " <music21.note.Note C#>,\n",
       " <music21.note.Note C#>,\n",
       " <music21.note.Note B>,\n",
       " <music21.note.Note C#>,\n",
       " <music21.note.Note E->,\n",
       " <music21.note.Note C#>,\n",
       " <music21.note.Note B>,\n",
       " <music21.chord.Chord G#4 B4>,\n",
       " <music21.note.Note B>,\n",
       " <music21.note.Note B>,\n",
       " <music21.note.Note B>,\n",
       " <music21.note.Note B>,\n",
       " <music21.note.Note C#>,\n",
       " <music21.note.Note B>,\n",
       " <music21.note.Note E->,\n",
       " <music21.note.Note B>,\n",
       " <music21.note.Note B>,\n",
       " <music21.note.Note C#>,\n",
       " <music21.note.Note B>,\n",
       " <music21.note.Note E->,\n",
       " <music21.note.Note B>,\n",
       " <music21.note.Note B>,\n",
       " <music21.note.Note E->,\n",
       " <music21.note.Note E->,\n",
       " <music21.note.Note B>,\n",
       " <music21.note.Note C#>,\n",
       " <music21.note.Note E->,\n",
       " <music21.chord.Chord B4 E-5>,\n",
       " <music21.note.Note B>,\n",
       " <music21.note.Note B>,\n",
       " <music21.note.Note C#>,\n",
       " <music21.note.Note E->,\n",
       " <music21.note.Note B>,\n",
       " <music21.note.Note B>,\n",
       " <music21.note.Note C#>,\n",
       " <music21.note.Note C#>,\n",
       " <music21.note.Note E->,\n",
       " <music21.note.Note C#>,\n",
       " <music21.note.Note C#>,\n",
       " <music21.note.Note B>,\n",
       " <music21.note.Note C#>,\n",
       " <music21.note.Note E->,\n",
       " <music21.note.Note B>,\n",
       " <music21.chord.Chord G#4 B4>,\n",
       " <music21.note.Note B>,\n",
       " <music21.note.Note B>,\n",
       " <music21.note.Note B>,\n",
       " <music21.note.Note B>,\n",
       " <music21.note.Note C#>,\n",
       " <music21.note.Note B>,\n",
       " <music21.note.Note E->,\n",
       " <music21.note.Note B>,\n",
       " <music21.note.Note B>,\n",
       " <music21.note.Note C#>,\n",
       " <music21.note.Note B>,\n",
       " <music21.note.Note E->,\n",
       " <music21.note.Note B>,\n",
       " <music21.note.Note B>,\n",
       " <music21.note.Note B>,\n",
       " <music21.note.Note E->,\n",
       " <music21.note.Note E->,\n",
       " <music21.note.Note B>,\n",
       " <music21.note.Note C#>,\n",
       " <music21.note.Note E->,\n",
       " <music21.note.Note E->,\n",
       " <music21.note.Note E->,\n",
       " <music21.note.Note E->,\n",
       " <music21.note.Note G#>,\n",
       " <music21.note.Note E->,\n",
       " <music21.note.Note E->,\n",
       " <music21.note.Note E->,\n",
       " <music21.note.Note E->,\n",
       " <music21.note.Note G#>,\n",
       " <music21.note.Note B>,\n",
       " <music21.note.Note C#>,\n",
       " <music21.note.Note G#>,\n",
       " <music21.note.Note G#>,\n",
       " <music21.note.Note G#>,\n",
       " <music21.note.Note E->,\n",
       " <music21.note.Note E->,\n",
       " <music21.note.Note E->,\n",
       " <music21.note.Note G#>,\n",
       " <music21.note.Note B>,\n",
       " <music21.note.Note C#>,\n",
       " <music21.note.Note G#>,\n",
       " <music21.note.Note E->,\n",
       " <music21.note.Note G#>,\n",
       " <music21.note.Note B>,\n",
       " <music21.note.Note C#>,\n",
       " <music21.note.Note G#>,\n",
       " <music21.note.Note E->,\n",
       " <music21.note.Note B->,\n",
       " <music21.note.Note B->,\n",
       " <music21.note.Note E->,\n",
       " <music21.note.Note B>,\n",
       " <music21.note.Note B>,\n",
       " <music21.note.Note B->,\n",
       " <music21.note.Note B>,\n",
       " <music21.note.Note C#>,\n",
       " <music21.note.Note B>,\n",
       " <music21.note.Note B->,\n",
       " <music21.note.Note B>,\n",
       " <music21.note.Note B->,\n",
       " <music21.note.Note G#>,\n",
       " <music21.note.Note B>,\n",
       " <music21.note.Note B>,\n",
       " <music21.note.Note B>,\n",
       " <music21.note.Note C#>,\n",
       " <music21.note.Note E->,\n",
       " <music21.note.Note C#>,\n",
       " <music21.note.Note C#>,\n",
       " <music21.note.Note B>,\n",
       " <music21.note.Note C#>,\n",
       " <music21.note.Note E->,\n",
       " <music21.note.Note E->,\n",
       " <music21.note.Note E->,\n",
       " <music21.note.Note E->,\n",
       " <music21.note.Note B>,\n",
       " <music21.note.Note C#>,\n",
       " <music21.note.Note E->,\n",
       " <music21.note.Note B>,\n",
       " <music21.note.Note B>,\n",
       " <music21.note.Note C#>,\n",
       " <music21.note.Note E->,\n",
       " <music21.note.Note C#>,\n",
       " <music21.note.Note C#>,\n",
       " <music21.note.Note B>,\n",
       " <music21.note.Note C#>,\n",
       " <music21.note.Note E->,\n",
       " <music21.note.Note E->,\n",
       " <music21.note.Note B>,\n",
       " <music21.note.Note E->,\n",
       " <music21.note.Note B>,\n",
       " <music21.note.Note E->,\n",
       " <music21.note.Note B>,\n",
       " <music21.note.Note C#>,\n",
       " <music21.note.Note E->,\n",
       " <music21.note.Note E->,\n",
       " <music21.note.Note E->,\n",
       " <music21.note.Note E->,\n",
       " <music21.note.Note B>,\n",
       " <music21.note.Note E->,\n",
       " <music21.note.Note E->,\n",
       " <music21.note.Note E->,\n",
       " <music21.note.Note B>,\n",
       " <music21.note.Note B>,\n",
       " <music21.note.Note B>,\n",
       " <music21.note.Note C#>,\n",
       " <music21.note.Note E->,\n",
       " <music21.note.Note C#>,\n",
       " <music21.note.Note C#>,\n",
       " <music21.note.Note B>,\n",
       " <music21.note.Note C#>,\n",
       " <music21.note.Note E->,\n",
       " <music21.note.Note E->,\n",
       " <music21.note.Note E->,\n",
       " <music21.note.Note E->,\n",
       " <music21.note.Note B>,\n",
       " <music21.note.Note C#>,\n",
       " <music21.note.Note E->,\n",
       " <music21.note.Note E->,\n",
       " <music21.note.Note C#>,\n",
       " <music21.note.Note C#>,\n",
       " <music21.note.Note B>,\n",
       " <music21.note.Note C#>,\n",
       " <music21.note.Note E->,\n",
       " <music21.note.Note E->,\n",
       " <music21.note.Note B>,\n",
       " <music21.note.Note E->,\n",
       " <music21.note.Note B>,\n",
       " <music21.note.Note E->,\n",
       " <music21.note.Note B>,\n",
       " <music21.note.Note C#>,\n",
       " <music21.note.Note E->,\n",
       " <music21.note.Note B>,\n",
       " <music21.note.Note B>,\n",
       " <music21.note.Note C#>,\n",
       " <music21.note.Note E->,\n",
       " <music21.note.Note C#>,\n",
       " <music21.note.Note C#>,\n",
       " <music21.note.Note B>,\n",
       " <music21.note.Note C#>,\n",
       " <music21.note.Note E->,\n",
       " <music21.note.Note B>,\n",
       " <music21.note.Note E->,\n",
       " <music21.note.Note B>,\n",
       " <music21.note.Note E->,\n",
       " <music21.note.Note E->,\n",
       " <music21.note.Note F#>,\n",
       " <music21.note.Note B>,\n",
       " <music21.note.Note B>,\n",
       " <music21.note.Note C#>,\n",
       " <music21.note.Note E->,\n",
       " <music21.note.Note E->,\n",
       " <music21.note.Note E->,\n",
       " <music21.note.Note B>,\n",
       " <music21.note.Note E->,\n",
       " <music21.note.Note E->,\n",
       " <music21.note.Note E->,\n",
       " <music21.note.Note E->,\n",
       " <music21.note.Note B>,\n",
       " <music21.note.Note B>,\n",
       " <music21.note.Note B>,\n",
       " <music21.note.Note C#>,\n",
       " <music21.note.Note E->,\n",
       " <music21.note.Note C#>,\n",
       " <music21.note.Note C#>,\n",
       " <music21.note.Note B>,\n",
       " <music21.note.Note C#>,\n",
       " <music21.note.Note E->,\n",
       " <music21.note.Note E->,\n",
       " <music21.note.Note B>,\n",
       " <music21.note.Note E->,\n",
       " <music21.note.Note E->,\n",
       " <music21.note.Note B>,\n",
       " <music21.note.Note C#>,\n",
       " <music21.note.Note F#>,\n",
       " <music21.stream.Voice 0x7f9ee56f2a58>,\n",
       " <music21.note.Rest rest>,\n",
       " <music21.note.Note F#>,\n",
       " <music21.note.Note B>,\n",
       " <music21.note.Note F#>,\n",
       " <music21.note.Rest rest>,\n",
       " <music21.note.Note E->,\n",
       " <music21.note.Note C#>,\n",
       " <music21.note.Note C#>,\n",
       " <music21.note.Note B>,\n",
       " <music21.note.Note C#>,\n",
       " <music21.note.Note B>,\n",
       " <music21.note.Note B>,\n",
       " <music21.note.Note F#>,\n",
       " <music21.note.Note F#>,\n",
       " <music21.note.Note F#>,\n",
       " <music21.note.Note B>,\n",
       " <music21.note.Note F#>,\n",
       " <music21.note.Note F#>,\n",
       " <music21.note.Note E->,\n",
       " <music21.note.Note E->,\n",
       " <music21.note.Note C#>,\n",
       " <music21.note.Note B>,\n",
       " <music21.note.Note B>,\n",
       " <music21.note.Note C#>,\n",
       " <music21.note.Note B>,\n",
       " <music21.note.Note F#>,\n",
       " <music21.note.Note G#>,\n",
       " <music21.note.Note C#>,\n",
       " <music21.note.Note G#>,\n",
       " <music21.note.Note E->,\n",
       " <music21.note.Note G#>,\n",
       " <music21.note.Note B>,\n",
       " <music21.note.Note C#>,\n",
       " <music21.note.Note G#>,\n",
       " <music21.note.Note G#>,\n",
       " <music21.note.Note E->,\n",
       " <music21.note.Note G#>,\n",
       " <music21.note.Note B>,\n",
       " <music21.note.Note C#>,\n",
       " <music21.note.Note G#>,\n",
       " <music21.note.Note E->,\n",
       " <music21.note.Note E->,\n",
       " <music21.note.Note E->,\n",
       " <music21.note.Note E->,\n",
       " <music21.note.Note E->,\n",
       " <music21.note.Note E->,\n",
       " <music21.note.Note B>,\n",
       " <music21.note.Note B>,\n",
       " <music21.note.Note C#>,\n",
       " <music21.note.Note E->,\n",
       " <music21.note.Note C#>,\n",
       " <music21.note.Note B>,\n",
       " <music21.chord.Chord G#4 B4>,\n",
       " <music21.note.Note B>,\n",
       " <music21.note.Note B>,\n",
       " <music21.note.Note B>,\n",
       " <music21.note.Note B>,\n",
       " <music21.note.Note C#>,\n",
       " <music21.note.Note B>,\n",
       " <music21.note.Note B>,\n",
       " <music21.note.Note B>,\n",
       " <music21.note.Note B>,\n",
       " <music21.note.Note C#>,\n",
       " <music21.note.Note B>,\n",
       " <music21.note.Note B>,\n",
       " <music21.note.Note E->,\n",
       " <music21.note.Note B>,\n",
       " <music21.note.Note B>,\n",
       " <music21.note.Note B>,\n",
       " <music21.note.Note C#>,\n",
       " <music21.note.Note E->,\n",
       " <music21.note.Note C#>,\n",
       " <music21.note.Note B>,\n",
       " <music21.chord.Chord G#4 B4>,\n",
       " <music21.note.Note B>,\n",
       " <music21.note.Note B>,\n",
       " <music21.note.Note B>,\n",
       " <music21.note.Note B>,\n",
       " <music21.note.Note C#>,\n",
       " <music21.note.Note B>,\n",
       " <music21.note.Note B>,\n",
       " <music21.note.Note B>,\n",
       " <music21.note.Note C#>,\n",
       " <music21.note.Note B>,\n",
       " <music21.note.Note B>,\n",
       " <music21.note.Note E->,\n",
       " <music21.note.Note F#>,\n",
       " <music21.note.Note B>,\n",
       " <music21.note.Note B>,\n",
       " <music21.note.Note C#>,\n",
       " <music21.note.Note B>,\n",
       " <music21.note.Note B>,\n",
       " <music21.note.Note C#>,\n",
       " <music21.note.Note C#>,\n",
       " <music21.note.Note C#>,\n",
       " <music21.note.Note C#>,\n",
       " <music21.note.Note B>,\n",
       " <music21.note.Note C#>,\n",
       " <music21.note.Note C#>,\n",
       " <music21.note.Note B>,\n",
       " <music21.chord.Chord G#4 B4>,\n",
       " <music21.note.Note B>,\n",
       " <music21.note.Note B>,\n",
       " <music21.note.Note B>,\n",
       " <music21.note.Note B>,\n",
       " <music21.note.Note C#>,\n",
       " <music21.note.Note B>,\n",
       " <music21.note.Note B>,\n",
       " <music21.note.Note C#>,\n",
       " <music21.note.Note B>,\n",
       " <music21.note.Note B>,\n",
       " <music21.note.Note B>,\n",
       " <music21.note.Note B>,\n",
       " <music21.note.Note E->,\n",
       " <music21.note.Note B>,\n",
       " <music21.note.Note C#>,\n",
       " <music21.note.Note E->,\n",
       " <music21.note.Note E->,\n",
       " <music21.note.Note B>,\n",
       " <music21.note.Note B>,\n",
       " <music21.note.Note C#>,\n",
       " <music21.note.Note C#>,\n",
       " <music21.note.Note E->,\n",
       " <music21.note.Note C#>,\n",
       " <music21.note.Note B>,\n",
       " <music21.chord.Chord G#4 B4>,\n",
       " <music21.note.Note B>,\n",
       " <music21.note.Note B>,\n",
       " <music21.note.Note B>,\n",
       " <music21.note.Note B>,\n",
       " <music21.note.Note C#>,\n",
       " <music21.note.Note B>,\n",
       " <music21.note.Note B>,\n",
       " <music21.note.Note B>,\n",
       " <music21.note.Note C#>,\n",
       " <music21.note.Note B>,\n",
       " <music21.note.Note B>,\n",
       " <music21.note.Note E->,\n",
       " <music21.note.Note F#>,\n",
       " <music21.note.Note B>,\n",
       " <music21.note.Note B>,\n",
       " <music21.note.Note B>,\n",
       " <music21.note.Note C#>,\n",
       " <music21.note.Note B>,\n",
       " <music21.note.Note B>,\n",
       " <music21.note.Note C#>,\n",
       " <music21.note.Note E->,\n",
       " <music21.note.Note C#>,\n",
       " <music21.note.Note B>,\n",
       " <music21.chord.Chord G#4 B4>,\n",
       " <music21.note.Note B>,\n",
       " <music21.note.Note B>,\n",
       " <music21.note.Note B>,\n",
       " <music21.note.Note B>,\n",
       " <music21.note.Note C#>,\n",
       " <music21.note.Note B>,\n",
       " <music21.note.Note B>,\n",
       " <music21.note.Note B>,\n",
       " <music21.note.Note B>,\n",
       " <music21.note.Note C#>,\n",
       " <music21.note.Note B>,\n",
       " <music21.note.Note B>,\n",
       " <music21.note.Note E->,\n",
       " <music21.note.Note B>,\n",
       " <music21.note.Note B>,\n",
       " <music21.note.Note B>,\n",
       " <music21.note.Note C#>,\n",
       " <music21.note.Note C#>,\n",
       " <music21.note.Note E->,\n",
       " <music21.note.Note C#>,\n",
       " <music21.note.Note B>,\n",
       " <music21.chord.Chord G#4 B4>,\n",
       " <music21.note.Note B>,\n",
       " <music21.note.Note B>,\n",
       " <music21.note.Note B>,\n",
       " <music21.note.Note B>,\n",
       " <music21.note.Note C#>,\n",
       " <music21.note.Note B>,\n",
       " <music21.note.Note B>,\n",
       " <music21.note.Note C#>,\n",
       " <music21.note.Note B>,\n",
       " <music21.note.Note B>,\n",
       " <music21.note.Note B>,\n",
       " <music21.note.Note E->,\n",
       " <music21.note.Note B>,\n",
       " <music21.note.Note C#>,\n",
       " <music21.note.Note E->,\n",
       " <music21.note.Note B>,\n",
       " <music21.note.Note B>,\n",
       " <music21.note.Note C#>,\n",
       " <music21.note.Note C#>,\n",
       " <music21.note.Note C#>,\n",
       " <music21.note.Note C#>,\n",
       " <music21.note.Note B>,\n",
       " <music21.note.Note C#>,\n",
       " <music21.note.Note C#>,\n",
       " <music21.note.Note B>,\n",
       " <music21.chord.Chord G#4 B4>,\n",
       " <music21.note.Note B>,\n",
       " <music21.note.Note B>,\n",
       " <music21.note.Note B>,\n",
       " <music21.note.Note B>,\n",
       " <music21.note.Note C#>,\n",
       " <music21.note.Note B>,\n",
       " <music21.note.Note B>,\n",
       " <music21.note.Note C#>,\n",
       " <music21.note.Note B>,\n",
       " <music21.note.Note B>,\n",
       " <music21.note.Note E->,\n",
       " <music21.note.Note B>,\n",
       " <music21.note.Note C#>,\n",
       " <music21.note.Note E->,\n",
       " <music21.note.Note B>,\n",
       " <music21.note.Note C#>,\n",
       " <music21.note.Note C#>,\n",
       " <music21.note.Note E->,\n",
       " <music21.note.Note C#>,\n",
       " <music21.note.Note B>,\n",
       " <music21.chord.Chord G#4 B4>,\n",
       " <music21.note.Note B>,\n",
       " <music21.note.Note B>,\n",
       " <music21.note.Note B>,\n",
       " <music21.note.Note B>,\n",
       " <music21.note.Note C#>,\n",
       " <music21.note.Note B>,\n",
       " <music21.note.Note B>,\n",
       " <music21.note.Note B>,\n",
       " <music21.note.Note C#>,\n",
       " <music21.note.Note B>,\n",
       " <music21.note.Note B>,\n",
       " <music21.note.Note E->,\n",
       " <music21.note.Rest rest>,\n",
       " <music21.stream.Voice 0x7f9ee5675ba8>,\n",
       " <music21.note.Note B>,\n",
       " <music21.note.Note C#>,\n",
       " <music21.note.Note B>,\n",
       " <music21.note.Note B>,\n",
       " <music21.note.Note E->,\n",
       " <music21.note.Note C#>,\n",
       " <music21.note.Note B>,\n",
       " <music21.note.Note B>,\n",
       " <music21.note.Note B>,\n",
       " <music21.note.Note B>,\n",
       " <music21.note.Note B>,\n",
       " <music21.note.Note B>,\n",
       " <music21.note.Note C#>,\n",
       " <music21.note.Note E->,\n",
       " <music21.note.Note B>,\n",
       " <music21.note.Note B>,\n",
       " <music21.note.Note B>,\n",
       " <music21.note.Note B>,\n",
       " <music21.note.Note B>,\n",
       " <music21.note.Note B>,\n",
       " <music21.note.Note B>,\n",
       " <music21.note.Note B>]"
      ]
     },
     "execution_count": 15,
     "metadata": {},
     "output_type": "execute_result"
    }
   ],
   "source": [
    "[p for p in music_parts[0].recurse()][5:]"
   ]
  },
  {
   "cell_type": "code",
   "execution_count": 16,
   "metadata": {},
   "outputs": [
    {
     "data": {
      "text/plain": [
       "[{'Chord_Root': 'G',\n",
       "  'Chord_Root_Num': 7,\n",
       "  'Normal_Form': [0, 3, 5, 8],\n",
       "  'Normal_Order': [2, 5, 7, 10],\n",
       "  'PitchCommonName': 'G3-minor seventh chord',\n",
       "  'Pitch_Names': ['G', 'B-', 'D', 'F'],\n",
       "  'Raw_Chord': '<music21.roman.RomanNumeral ii7 in F major>',\n",
       "  'Roman_Numeral': 'ii',\n",
       "  'Song_Root': 'F',\n",
       "  'Song_Root_Mode': 'major',\n",
       "  'Song_Root_Num': 7},\n",
       " {'Chord_Root': 'E',\n",
       "  'Chord_Root_Num': 4,\n",
       "  'Normal_Form': [0, 2, 5, 8],\n",
       "  'Normal_Order': [2, 4, 7, 10],\n",
       "  'PitchCommonName': 'E4-half-diminished seventh chord',\n",
       "  'Pitch_Names': ['B-', 'D', 'E', 'G'],\n",
       "  'Raw_Chord': '<music21.roman.RomanNumeral vii/o43 in F major>',\n",
       "  'Roman_Numeral': 'vii',\n",
       "  'Song_Root': 'F',\n",
       "  'Song_Root_Mode': 'major',\n",
       "  'Song_Root_Num': 4}]"
      ]
     },
     "execution_count": 16,
     "metadata": {},
     "output_type": "execute_result"
    }
   ],
   "source": [
    "df_song_links_chord_melody_seq[df_song_links_chord_melody_seq['Song'] == 'automnminnewyork.mid'].iloc[0]['Chord_Data'][:2]"
   ]
  },
  {
   "cell_type": "code",
   "execution_count": null,
   "metadata": {
    "collapsed": true
   },
   "outputs": [],
   "source": []
  },
  {
   "cell_type": "code",
   "execution_count": null,
   "metadata": {
    "collapsed": true
   },
   "outputs": [],
   "source": []
  },
  {
   "cell_type": "code",
   "execution_count": 22,
   "metadata": {},
   "outputs": [
    {
     "data": {
      "text/plain": [
       "<matplotlib.collections.PathCollection at 0x7f9ee52be438>"
      ]
     },
     "execution_count": 22,
     "metadata": {},
     "output_type": "execute_result"
    },
    {
     "data": {
      "image/png": "[encoded data removed]",
      "text/plain": [
       "<matplotlib.figure.Figure at 0x7f9ee536cef0>"
      ]
     },
     "metadata": {
      "image/png": {
       "height": 248,
       "width": 1150
      }
     },
     "output_type": "display_data"
    }
   ],
   "source": [
    "seq_sect = range(0,10)\n",
    "plt.figure(figsize=(20,4))\n",
    "# plt.scatter(x=range(len(melody_sequence[:20])), y=melody_sequence[:20])\n",
    "plt.scatter(x=range(len(seq_sect)), y=melody_sequence[seq_sect], s=200)"
   ]
  },
  {
   "cell_type": "code",
   "execution_count": null,
   "metadata": {
    "collapsed": true
   },
   "outputs": [],
   "source": []
  },
  {
   "cell_type": "code",
   "execution_count": 23,
   "metadata": {
    "collapsed": true
   },
   "outputs": [],
   "source": [
    "target_sequence = ','.join([str(x) for x in melody_sequence[seq_sect].tolist()])"
   ]
  },
  {
   "cell_type": "code",
   "execution_count": 24,
   "metadata": {
    "collapsed": true
   },
   "outputs": [],
   "source": [
    "jazz_sequences = []\n",
    "for seq in melodies:\n",
    "    jazz_sequences.append(','.join([str(x) for x in seq.tolist()]))"
   ]
  },
  {
   "cell_type": "code",
   "execution_count": 25,
   "metadata": {
    "collapsed": true
   },
   "outputs": [],
   "source": [
    "for seq in jazz_sequences:\n",
    "    if target_sequence in seq:\n",
    "        print(\"Found\")"
   ]
  },
  {
   "cell_type": "code",
   "execution_count": 26,
   "metadata": {},
   "outputs": [
    {
     "name": "stdout",
     "output_type": "stream",
     "text": [
      "0,10,0,10,7,10,7,10,7,10\n"
     ]
    }
   ],
   "source": [
    "print(target_sequence)"
   ]
  },
  {
   "cell_type": "code",
   "execution_count": 27,
   "metadata": {
    "scrolled": true
   },
   "outputs": [
    {
     "name": "stdout",
     "output_type": "stream",
     "text": [
      "10,7,10,0,2,5,7,8,0,2,1,8,7,10,7,8,3,2,3,0,2,10,8,5,8,4,6,10,5,7,3,2,9,8,9,0,8,7,8,5,3,0,7,10,0,3,1,0,10,8,4,5,7,8,10,0,3,0,1,2,5,8,10,11,1,11,8,7,5,3,4,1,10,8,7,10,2,7,0,10,0,8,7,5,0,4,7,5,7,8,10,0,3,2,10,0,8,1,11,10,8,6,7,2,7,2,7,2,5,7,10,11,0,11,8,6,5,2,3,5,7,8,10,2,7,6,2,10,9,8,0,8,3,1,3,1,3,0,3,0,8,5,10,7,0,7,8,5,3,2,3,5,2,10,2,3,2,3,0,8,7,11,9,6,2,11,5,2,3,5,7,8,10,0,1,3,1,0,3,5,3,0,10,5,9,0,9,5,7,5,2,5,7,9,7,9,2,3,2,7,8,9,10,7,2,10,0,8,6,5,7,10,0,3,0,10,8,5,3,2,3,2,0,7,3,2,3,5,2,0,4,6,8,10,1,2,4,8,10,11,2,3,0,3,0,8,5,10,8,11,8,9,10,5,6,2,1,11,10,8,7,5,9,0,7,5,4,0,5,8,4,5,8,10,0,2,3,1,4,7,8,7,8,10,0,2,3,5,7,8,3,10,0,5,2,7,5,10,7,8,1,10,2,0,3,5,0,8,9,5,10,0,2,7,8,3,7,0,7,0,1,7,2,0,10,8,2,7,5,10,0,3,0,6,1,2,7,1,4,7,1,8,10,0\n"
     ]
    }
   ],
   "source": [
    "print(jazz_sequences[89])"
   ]
  },
  {
   "cell_type": "code",
   "execution_count": 28,
   "metadata": {
    "collapsed": true
   },
   "outputs": [],
   "source": [
    "def target_distances(target_sequence, jazz_sequences):\n",
    "    n = len(target_sequence)\n",
    "    dist = []\n",
    "    for k,jazz in enumerate(jazz_sequences):\n",
    "        s=-1\n",
    "        d = []\n",
    "        while True:\n",
    "            e=0;j=0\n",
    "            for i in range(s+1,len(jazz)):\n",
    "                if j>=n:\n",
    "                    break\n",
    "                if jazz[i]==target_sequence[j]:\n",
    "                    if j==0:\n",
    "                        s=i\n",
    "                    elif j==n-1:\n",
    "                        e=i\n",
    "                    j+=1\n",
    "            if e:\n",
    "                d.append((e-s+1,k))\n",
    "            else:\n",
    "                d.append((100000,k))\n",
    "                break\n",
    "        dist.append(min(d))\n",
    "    print(min(dist))\n",
    "    return dist"
   ]
  },
  {
   "cell_type": "code",
   "execution_count": 29,
   "metadata": {},
   "outputs": [
    {
     "name": "stdout",
     "output_type": "stream",
     "text": [
      "(34, 17)\n"
     ]
    }
   ],
   "source": [
    "dist = target_distances(target_sequence, jazz_sequences)"
   ]
  },
  {
   "cell_type": "code",
   "execution_count": 30,
   "metadata": {},
   "outputs": [
    {
     "data": {
      "text/html": [
       "<div>\n",
       "<style>\n",
       "    .dataframe thead tr:only-child th {\n",
       "        text-align: right;\n",
       "    }\n",
       "\n",
       "    .dataframe thead th {\n",
       "        text-align: left;\n",
       "    }\n",
       "\n",
       "    .dataframe tbody tr th {\n",
       "        vertical-align: top;\n",
       "    }\n",
       "</style>\n",
       "<table border=\"1\" class=\"dataframe\">\n",
       "  <thead>\n",
       "    <tr style=\"text-align: right;\">\n",
       "      <th></th>\n",
       "      <th>Song Name</th>\n",
       "      <th>Distance</th>\n",
       "    </tr>\n",
       "    <tr>\n",
       "      <th>Melody ID</th>\n",
       "      <th></th>\n",
       "      <th></th>\n",
       "    </tr>\n",
       "  </thead>\n",
       "  <tbody>\n",
       "    <tr>\n",
       "      <th>127</th>\n",
       "      <td>tutu.mid</td>\n",
       "      <td>34</td>\n",
       "    </tr>\n",
       "    <tr>\n",
       "      <th>152</th>\n",
       "      <td>fever.mid</td>\n",
       "      <td>37</td>\n",
       "    </tr>\n",
       "    <tr>\n",
       "      <th>83</th>\n",
       "      <td>maputo2.mid</td>\n",
       "      <td>40</td>\n",
       "    </tr>\n",
       "    <tr>\n",
       "      <th>150</th>\n",
       "      <td>Brazil.mid</td>\n",
       "      <td>42</td>\n",
       "    </tr>\n",
       "    <tr>\n",
       "      <th>166</th>\n",
       "      <td>howhightthemoon.mid</td>\n",
       "      <td>44</td>\n",
       "    </tr>\n",
       "    <tr>\n",
       "      <th>195</th>\n",
       "      <td>killerjoe.mid</td>\n",
       "      <td>45</td>\n",
       "    </tr>\n",
       "    <tr>\n",
       "      <th>139</th>\n",
       "      <td>thismasquerade.mid</td>\n",
       "      <td>49</td>\n",
       "    </tr>\n",
       "    <tr>\n",
       "      <th>92</th>\n",
       "      <td>funnyvalentine.mid</td>\n",
       "      <td>50</td>\n",
       "    </tr>\n",
       "    <tr>\n",
       "      <th>234</th>\n",
       "      <td>lullubyofbirdland.mid</td>\n",
       "      <td>50</td>\n",
       "    </tr>\n",
       "    <tr>\n",
       "      <th>65</th>\n",
       "      <td>resolution.mid</td>\n",
       "      <td>51</td>\n",
       "    </tr>\n",
       "  </tbody>\n",
       "</table>\n",
       "</div>"
      ],
      "text/plain": [
       "                       Song Name  Distance\n",
       "Melody ID                                 \n",
       "127                     tutu.mid        34\n",
       "152                    fever.mid        37\n",
       "83                   maputo2.mid        40\n",
       "150                   Brazil.mid        42\n",
       "166          howhightthemoon.mid        44\n",
       "195                killerjoe.mid        45\n",
       "139           thismasquerade.mid        49\n",
       "92            funnyvalentine.mid        50\n",
       "234        lullubyofbirdland.mid        50\n",
       "65                resolution.mid        51"
      ]
     },
     "execution_count": 30,
     "metadata": {},
     "output_type": "execute_result"
    }
   ],
   "source": [
    "df_matches = pd.DataFrame(sorted(dist)[1:], columns=['Distance', 'Melody ID'])\n",
    "df_matches['Song Name'] = df_matches['Melody ID'].apply(lambda x: df_song_links_chord_melody_seq.iloc[x]['Song'])\n",
    "df_matches.drop_duplicates(subset='Song Name', inplace=True)\n",
    "df_matches.set_index('Melody ID', inplace=True)\n",
    "df_matches = df_matches[['Song Name', 'Distance']]\n",
    "df_matches.head(10)"
   ]
  },
  {
   "cell_type": "code",
   "execution_count": null,
   "metadata": {
    "collapsed": true
   },
   "outputs": [],
   "source": []
  },
  {
   "cell_type": "code",
   "execution_count": 31,
   "metadata": {
    "collapsed": true
   },
   "outputs": [],
   "source": [
    "# n = len(target_sequence)\n",
    "# dist = []\n",
    "# for k,jazz in enumerate(jazz_sequences):\n",
    "#     i=0;j=0;s=0;e=0\n",
    "#     for i in range(len(jazz)):\n",
    "#         if j>=n:\n",
    "#             break\n",
    "#         if jazz[i]==target_sequence[j]:\n",
    "#             if j==0:\n",
    "#                 s=i\n",
    "#             elif j==n-1:\n",
    "#                 e=i\n",
    "#             j+=1\n",
    "#     if e:\n",
    "#         dist.append((e-s,k))\n",
    "#     else:\n",
    "#         dist.append((100000,k))\n",
    "# min(dist)"
   ]
  },
  {
   "cell_type": "code",
   "execution_count": 34,
   "metadata": {},
   "outputs": [
    {
     "name": "stdout",
     "output_type": "stream",
     "text": [
      "0,10,0,10,7,10,7,10,7,10\n"
     ]
    }
   ],
   "source": [
    "print(target_sequence)"
   ]
  },
  {
   "cell_type": "code",
   "execution_count": 35,
   "metadata": {},
   "outputs": [
    {
     "name": "stdout",
     "output_type": "stream",
     "text": [
      "3,2,5,3,2,3,2,0,5,7,2,5,3,2,3,5,10,7,5,3,5,2,3,5,3,2,0,2,0,7,10,0,5,7,2,3,5,7,5,9,5,10,7,0,7,2,7,3,5,7,3,5,10,0,10,9,7,5,3,9,5,4,3,7,5,3,2,5,3,2,0,3,2,0,10,2,0,10,9,0,10,9,7,10,9,7,5,3,5,0,2,0,7,0,2,3,2,0,5,10,3,5,7,10,0,7,10,5,9,2,0,5,2,7,5,0,10,9,7,5,3,5,7,2,3,5,0,2,3,2,10,7,0,10,7,0,10,2,10,7,0,10,7,0,10,7,0,10,7,0,10,2,3,5,2,3,5,7,9,0,2,3,5,7,9,10,2,3,5,7,9,10,0,2,3,5,7,9,10,0,2,3,2,3,5,7,9,10,0,1,2,3,5,7,8,9,10,0,2,3,5,2,3,0,2,7,0,2,3,5,3,5,7,8,10,0,2,5,3,0,10,0,7,5,3,10,0,2,10,0,5,8,10,3,10,8,5,3,11,6,1,11,6,5,11,3,6,9,4,3,9,7,5,0,10,8,3,7,2,7,0,5,2,5,3,5,3,0,7,5,3,5,3,0,7,5,3,5,3,0,7,5,3,5,3,0,7,0,3,5,6,7,10,0,10,2,10,0,10,7,5,0,7,5,3,0,7,0,3,8,1,4,9,2,4,10,3,5,11,4,6,0,5,7,1,6,8,2,7,9,3,8,10,4,9,11,0,2,3,5,3,0,7,10,2,10,2,5,2,3,5,7,10,5,0,2,3,7,10,8,7,10,5,3,10,7,5,0,2,5,7,2,7,2,8,7,2,0,10,7,5,3,2,0,8,7,5,7,2,5,3,10,7,0,10,2,5,9,0,4,5,9,0,5,7,0,4,2,0,5,4,0,3,5,10,3,5,3,10,5,3,1,2,7,10,2,7,2,7,10,7,2,0,5,4,0,5,10,0,3,5,8,10,0,3,5,8,6,3,0,10,8,7,0,7,10,8,5,6,7,6,5,3,2,0,5,3,2,10,8,6,5,3,0,1,2,7,2,9,3,10,3,5,0,5,7,2,7,8,3,8,5,3,10,3,2,7\n"
     ]
    }
   ],
   "source": [
    "print(jazz_sequences[127])"
   ]
  },
  {
   "cell_type": "code",
   "execution_count": 29,
   "metadata": {},
   "outputs": [
    {
     "data": {
      "text/plain": [
       "'so_what.mid'"
      ]
     },
     "execution_count": 29,
     "metadata": {},
     "output_type": "execute_result"
    }
   ],
   "source": [
    "df_song_links_chord_melody_seq.iloc[184][0]"
   ]
  },
  {
   "cell_type": "code",
   "execution_count": 30,
   "metadata": {},
   "outputs": [
    {
     "data": {
      "text/plain": [
       "<music21.key.Key of g# minor>"
      ]
     },
     "execution_count": 30,
     "metadata": {},
     "output_type": "execute_result"
    }
   ],
   "source": [
    "part_key"
   ]
  },
  {
   "cell_type": "code",
   "execution_count": null,
   "metadata": {
    "collapsed": true
   },
   "outputs": [],
   "source": []
  }
 ],
 "metadata": {
  "kernelspec": {
   "display_name": "Python [default]",
   "language": "python",
   "name": "python3"
  },
  "language_info": {
   "codemirror_mode": {
    "name": "ipython",
    "version": 3
   },
   "file_extension": ".py",
   "mimetype": "text/x-python",
   "name": "python",
   "nbconvert_exporter": "python",
   "pygments_lexer": "ipython3",
   "version": "3.5.3"
  }
 },
 "nbformat": 4,
 "nbformat_minor": 2
}
